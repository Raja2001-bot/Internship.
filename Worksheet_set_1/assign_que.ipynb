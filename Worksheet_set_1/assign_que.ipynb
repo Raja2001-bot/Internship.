{
 "cells": [
  {
   "cell_type": "code",
   "execution_count": 1,
   "id": "7d56b2d2",
   "metadata": {},
   "outputs": [],
   "source": [
    "#Name- Raja Kumar\n",
    "#Batch- DS2312"
   ]
  },
  {
   "cell_type": "code",
   "execution_count": 2,
   "id": "e9504fc4",
   "metadata": {},
   "outputs": [
    {
     "name": "stdout",
     "output_type": "stream",
     "text": [
      "enter a number9\n",
      "362880\n"
     ]
    }
   ],
   "source": [
    "#11. Write a python program to find the factorial of a number\n",
    "\n",
    "n= int(input('enter a number'))\n",
    "fact=1\n",
    "for i in range(n,0,-1):\n",
    "    fact=fact*i\n",
    "print(fact)"
   ]
  },
  {
   "cell_type": "code",
   "execution_count": 4,
   "id": "3ca11ac3",
   "metadata": {},
   "outputs": [
    {
     "name": "stdout",
     "output_type": "stream",
     "text": [
      "362880\n"
     ]
    }
   ],
   "source": [
    "# using recursion\n",
    "def factorial(n):\n",
    "    if n==1 or n==0:\n",
    "        return 1\n",
    "    else:\n",
    "        return n*factorial(n-1)\n",
    "print(factorial(9))"
   ]
  },
  {
   "cell_type": "code",
   "execution_count": 5,
   "id": "e4488752",
   "metadata": {},
   "outputs": [
    {
     "name": "stdout",
     "output_type": "stream",
     "text": [
      "enter a  number19\n",
      "the number is prime\n"
     ]
    }
   ],
   "source": [
    "#12. Write a python program to find whether a number is prime or composite\n",
    "a=int(input('enter a  number'))\n",
    "b=False\n",
    "if a==1:\n",
    "    print('the number is prime')\n",
    "elif a<=0:\n",
    "    print('enter a number greater than 0')\n",
    "else:\n",
    "    for i in range(2,a):\n",
    "        if a%i==0:\n",
    "            b=True\n",
    "\n",
    "if a>1:\n",
    "    if b:\n",
    "        print('the number is composite')\n",
    "    else:\n",
    "        print('the number is prime')\n",
    "\n",
    "        "
   ]
  },
  {
   "cell_type": "code",
   "execution_count": 2,
   "id": "0431fa7a",
   "metadata": {},
   "outputs": [
    {
     "name": "stdout",
     "output_type": "stream",
     "text": [
      "Enter the stringabcba\n",
      "The string is a palindrome.\n"
     ]
    }
   ],
   "source": [
    "#13. Write a python program to check whether a given string is palindrome or not\n",
    "my_str = input(\"Enter the string\")\n",
    "my_str = my_str.casefold()\n",
    "rev_str = reversed(my_str)\n",
    "if list(my_str) == list(rev_str):\n",
    "   print(\"This string is a palindrome.\")\n",
    "else:\n",
    "   print(\"This string is not a palindrome.\")\n"
   ]
  },
  {
   "cell_type": "code",
   "execution_count": 8,
   "id": "8c622d71",
   "metadata": {},
   "outputs": [
    {
     "name": "stdout",
     "output_type": "stream",
     "text": [
      "the first side of the triangle60\n",
      "the second side of the triangle45\n",
      "third side(hypothenis of the triangle is: ) [75.]\n",
      "enter the hypothenis90\n",
      "enter the one side90\n",
      "the 3rd side is [0.]\n"
     ]
    }
   ],
   "source": [
    "#14. Write a Python program to get the third side of right-angled triangle from two given sides\n",
    "#when we have to find the hypothenis\n",
    "import numpy as np\n",
    "a= int(input('the first side of the triangle'))\n",
    "b=int(input('the second side of the triangle'))\n",
    "print('third side(hypothenis of the triangle is: )', np.sqrt([(a*a)+(b*b)]))\n",
    "\n",
    "c= int(input('enter the hypothenis'))\n",
    "d=int(input('enter the one side'))\n",
    "\n",
    "print('the 3rd side is', np.sqrt([(c*c)-(d*d)]))"
   ]
  },
  {
   "cell_type": "code",
   "execution_count": 9,
   "id": "a3330520",
   "metadata": {},
   "outputs": [
    {
     "name": "stdout",
     "output_type": "stream",
     "text": [
      "enter a stringrjser eushg eursghn rughu ersurie\n",
      "the frequency of each character is the given string is {'r': 6, 'j': 1, 's': 4, 'e': 5, ' ': 4, 'u': 5, 'h': 3, 'g': 3, 'n': 1, 'i': 1}\n"
     ]
    }
   ],
   "source": [
    "#15. Write a python program to print the frequency of each of the characters present in a given string\n",
    "a= input('enter a string')\n",
    "b={}\n",
    "for i in a:\n",
    "    b[i]= a.count(i)\n",
    "print('the frequency of each character is the given string is', b)"
   ]
  },
  {
   "cell_type": "code",
   "execution_count": null,
   "id": "77cc274d",
   "metadata": {},
   "outputs": [],
   "source": []
  }
 ],
 "metadata": {
  "kernelspec": {
   "display_name": "Python 3 (ipykernel)",
   "language": "python",
   "name": "python3"
  },
  "language_info": {
   "codemirror_mode": {
    "name": "ipython",
    "version": 3
   },
   "file_extension": ".py",
   "mimetype": "text/x-python",
   "name": "python",
   "nbconvert_exporter": "python",
   "pygments_lexer": "ipython3",
   "version": "3.11.5"
  }
 },
 "nbformat": 4,
 "nbformat_minor": 5
}
